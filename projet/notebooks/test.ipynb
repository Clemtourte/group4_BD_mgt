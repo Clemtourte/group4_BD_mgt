{
 "cells": [
  {
   "cell_type": "code",
   "execution_count": 1,
   "metadata": {},
   "outputs": [],
   "source": [
    "import sys\n",
    "import os\n",
    "sys.path.append(os.path.dirname(os.getcwd()))\n",
    "# ou plus directement\n",
    "sys.path.append(\"C:/Users/clemt/OneDrive/Documents/Cours M2/S2/BD Management/group4_BD_mgt/projet\")"
   ]
  },
  {
   "cell_type": "code",
   "execution_count": 2,
   "metadata": {},
   "outputs": [
    {
     "name": "stdout",
     "output_type": "stream",
     "text": [
      "Hello my name is Clement\n"
     ]
    }
   ],
   "source": [
    "from scripts.lib import who_am_i\n",
    "who_am_i()"
   ]
  },
  {
   "cell_type": "code",
   "execution_count": 3,
   "metadata": {},
   "outputs": [
    {
     "data": {
      "text/html": [
       "<div>\n",
       "<style scoped>\n",
       "    .dataframe tbody tr th:only-of-type {\n",
       "        vertical-align: middle;\n",
       "    }\n",
       "\n",
       "    .dataframe tbody tr th {\n",
       "        vertical-align: top;\n",
       "    }\n",
       "\n",
       "    .dataframe thead th {\n",
       "        text-align: right;\n",
       "    }\n",
       "</style>\n",
       "<table border=\"1\" class=\"dataframe\">\n",
       "  <thead>\n",
       "    <tr style=\"text-align: right;\">\n",
       "      <th></th>\n",
       "      <th>Name</th>\n",
       "      <th>Age</th>\n",
       "    </tr>\n",
       "  </thead>\n",
       "  <tbody>\n",
       "    <tr>\n",
       "      <th>0</th>\n",
       "      <td>Alice</td>\n",
       "      <td>25</td>\n",
       "    </tr>\n",
       "    <tr>\n",
       "      <th>1</th>\n",
       "      <td>Bob</td>\n",
       "      <td>30</td>\n",
       "    </tr>\n",
       "  </tbody>\n",
       "</table>\n",
       "</div>"
      ],
      "text/plain": [
       "    Name  Age\n",
       "0  Alice   25\n",
       "1    Bob   30"
      ]
     },
     "execution_count": 3,
     "metadata": {},
     "output_type": "execute_result"
    }
   ],
   "source": [
    "from scripts.lib import simple_df\n",
    "simple_df()"
   ]
  },
  {
   "cell_type": "code",
   "execution_count": 4,
   "metadata": {},
   "outputs": [
    {
     "name": "stdout",
     "output_type": "stream",
     "text": [
      "Current working directory: c:\\Users\\clemt\\OneDrive\\Documents\\Cours M2\\S2\\BD Management\\group4_BD_mgt\\projet\\notebooks\n",
      "Key path: C:\\Users\\clemt\\OneDrive\\Documents\\Cours M2\\S2\\BD Management\\group4_BD_mgt\\projet\\august-voyage-390012-9a63e6007306.json\n",
      "File exists: True\n",
      "File contents readable: True\n"
     ]
    }
   ],
   "source": [
    "from google.oauth2 import service_account\n",
    "from google.cloud import bigquery\n",
    "from dotenv import load_dotenv\n",
    "import os\n",
    "\n",
    "# Load environment variables\n",
    "load_dotenv()\n",
    "\n",
    "# Debug prints\n",
    "print(\"Current working directory:\", os.getcwd())\n",
    "key_path = os.getenv('GOOGLE_APPLICATION_CREDENTIALS')\n",
    "print(\"Key path:\", key_path)\n",
    "print(\"File exists:\", os.path.exists(key_path))\n",
    "print(\"File contents readable:\", os.access(key_path, os.R_OK))"
   ]
  },
  {
   "cell_type": "code",
   "execution_count": 5,
   "metadata": {},
   "outputs": [
    {
     "name": "stdout",
     "output_type": "stream",
     "text": [
      "Credentials created successfully\n",
      "Project ID: august-voyage-390012\n",
      "Client initialized successfully\n"
     ]
    },
    {
     "name": "stderr",
     "output_type": "stream",
     "text": [
      "c:\\Users\\clemt\\OneDrive\\Documents\\Cours M2\\S2\\BD Management\\group4_BD_mgt\\projet\\env\\Lib\\site-packages\\google\\cloud\\bigquery\\table.py:1820: UserWarning: BigQuery Storage module not found, fetch data with the REST endpoint instead.\n",
      "  warnings.warn(\n"
     ]
    },
    {
     "name": "stdout",
     "output_type": "stream",
     "text": [
      "Query executed successfully\n"
     ]
    }
   ],
   "source": [
    "try:\n",
    "    # Create credentials\n",
    "    credentials = service_account.Credentials.from_service_account_file(key_path)\n",
    "    print(\"Credentials created successfully\")\n",
    "    print(\"Project ID:\", credentials.project_id)\n",
    "    \n",
    "    # Initialize client\n",
    "    client = bigquery.Client(credentials=credentials, project=credentials.project_id)\n",
    "    print(\"Client initialized successfully\")\n",
    "    \n",
    "    # Test query\n",
    "    query = \"\"\"\n",
    "    SELECT *\n",
    "    FROM `edhec-business-manageme.luxurydata2502.price-monitoring-2022`\n",
    "    LIMIT 10\n",
    "    \"\"\"\n",
    "    df = client.query(query).to_dataframe()\n",
    "    print(\"Query executed successfully\")\n",
    "    \n",
    "except Exception as e:\n",
    "    print(\"Error occurred:\")\n",
    "    print(str(e))"
   ]
  },
  {
   "cell_type": "code",
   "execution_count": 7,
   "metadata": {},
   "outputs": [
    {
     "name": "stdout",
     "output_type": "stream",
     "text": [
      "First 5 rows:\n"
     ]
    },
    {
     "data": {
      "text/html": [
       "<div>\n",
       "<style scoped>\n",
       "    .dataframe tbody tr th:only-of-type {\n",
       "        vertical-align: middle;\n",
       "    }\n",
       "\n",
       "    .dataframe tbody tr th {\n",
       "        vertical-align: top;\n",
       "    }\n",
       "\n",
       "    .dataframe thead th {\n",
       "        text-align: right;\n",
       "    }\n",
       "</style>\n",
       "<table border=\"1\" class=\"dataframe\">\n",
       "  <thead>\n",
       "    <tr style=\"text-align: right;\">\n",
       "      <th></th>\n",
       "      <th>uid</th>\n",
       "      <th>brand</th>\n",
       "      <th>url</th>\n",
       "      <th>price</th>\n",
       "      <th>currency</th>\n",
       "      <th>image_url</th>\n",
       "      <th>collection</th>\n",
       "      <th>reference_code</th>\n",
       "      <th>country</th>\n",
       "      <th>life_span_date</th>\n",
       "      <th>life_span</th>\n",
       "      <th>price_before</th>\n",
       "      <th>price_difference</th>\n",
       "      <th>price_percent_change</th>\n",
       "      <th>price_changed</th>\n",
       "      <th>is_new</th>\n",
       "    </tr>\n",
       "  </thead>\n",
       "  <tbody>\n",
       "    <tr>\n",
       "      <th>0</th>\n",
       "      <td>6402</td>\n",
       "      <td>Rolex</td>\n",
       "      <td>https://www.rolex.com/watches/day-date/m228238...</td>\n",
       "      <td>285100</td>\n",
       "      <td>HKD</td>\n",
       "      <td>https://images.rolex.com/2019/catalogue/images...</td>\n",
       "      <td>DAY DATE</td>\n",
       "      <td>228238-0042</td>\n",
       "      <td>None</td>\n",
       "      <td>2020-08-29</td>\n",
       "      <td>Q4 August 2020</td>\n",
       "      <td>NaN</td>\n",
       "      <td>0</td>\n",
       "      <td>0.0</td>\n",
       "      <td>0.0</td>\n",
       "      <td>NaN</td>\n",
       "    </tr>\n",
       "    <tr>\n",
       "      <th>1</th>\n",
       "      <td>6403</td>\n",
       "      <td>Rolex</td>\n",
       "      <td>https://www.rolex.com/watches/sky-dweller/m326...</td>\n",
       "      <td>&lt;NA&gt;</td>\n",
       "      <td>HKD</td>\n",
       "      <td>https://images.rolex.com/2019/catalogue/images...</td>\n",
       "      <td>SKY DWELLER</td>\n",
       "      <td>326935-0007</td>\n",
       "      <td>None</td>\n",
       "      <td>2020-08-29</td>\n",
       "      <td>Q4 August 2020</td>\n",
       "      <td>NaN</td>\n",
       "      <td>0</td>\n",
       "      <td>0.0</td>\n",
       "      <td>0.0</td>\n",
       "      <td>NaN</td>\n",
       "    </tr>\n",
       "    <tr>\n",
       "      <th>2</th>\n",
       "      <td>6404</td>\n",
       "      <td>Rolex</td>\n",
       "      <td>https://www.rolex.com/watches/datejust/m126333...</td>\n",
       "      <td>103200</td>\n",
       "      <td>HKD</td>\n",
       "      <td>https://images.rolex.com/2019/catalogue/images...</td>\n",
       "      <td>DATEJUST</td>\n",
       "      <td>126333-0010</td>\n",
       "      <td>None</td>\n",
       "      <td>2020-08-29</td>\n",
       "      <td>Q4 August 2020</td>\n",
       "      <td>NaN</td>\n",
       "      <td>0</td>\n",
       "      <td>0.0</td>\n",
       "      <td>0.0</td>\n",
       "      <td>NaN</td>\n",
       "    </tr>\n",
       "    <tr>\n",
       "      <th>3</th>\n",
       "      <td>6405</td>\n",
       "      <td>Rolex</td>\n",
       "      <td>https://www.rolex.com/watches/lady-datejust/m2...</td>\n",
       "      <td>154900</td>\n",
       "      <td>HKD</td>\n",
       "      <td>https://images.rolex.com/2019/catalogue/images...</td>\n",
       "      <td>DATEJUST</td>\n",
       "      <td>279381RBR-0013</td>\n",
       "      <td>None</td>\n",
       "      <td>2020-08-29</td>\n",
       "      <td>Q4 August 2020</td>\n",
       "      <td>NaN</td>\n",
       "      <td>0</td>\n",
       "      <td>0.0</td>\n",
       "      <td>0.0</td>\n",
       "      <td>NaN</td>\n",
       "    </tr>\n",
       "    <tr>\n",
       "      <th>4</th>\n",
       "      <td>6406</td>\n",
       "      <td>Rolex</td>\n",
       "      <td>https://www.rolex.com/watches/pearlmaster/m864...</td>\n",
       "      <td>&lt;NA&gt;</td>\n",
       "      <td>HKD</td>\n",
       "      <td>https://content.rolex.com/dam/2020/upright-bba...</td>\n",
       "      <td>PEARLMASTER</td>\n",
       "      <td>86409RBR-0001</td>\n",
       "      <td>None</td>\n",
       "      <td>2020-08-29</td>\n",
       "      <td>Q4 August 2020</td>\n",
       "      <td>NaN</td>\n",
       "      <td>0</td>\n",
       "      <td>0.0</td>\n",
       "      <td>0.0</td>\n",
       "      <td>NaN</td>\n",
       "    </tr>\n",
       "  </tbody>\n",
       "</table>\n",
       "</div>"
      ],
      "text/plain": [
       "    uid  brand                                                url   price  \\\n",
       "0  6402  Rolex  https://www.rolex.com/watches/day-date/m228238...  285100   \n",
       "1  6403  Rolex  https://www.rolex.com/watches/sky-dweller/m326...    <NA>   \n",
       "2  6404  Rolex  https://www.rolex.com/watches/datejust/m126333...  103200   \n",
       "3  6405  Rolex  https://www.rolex.com/watches/lady-datejust/m2...  154900   \n",
       "4  6406  Rolex  https://www.rolex.com/watches/pearlmaster/m864...    <NA>   \n",
       "\n",
       "  currency                                          image_url   collection  \\\n",
       "0      HKD  https://images.rolex.com/2019/catalogue/images...     DAY DATE   \n",
       "1      HKD  https://images.rolex.com/2019/catalogue/images...  SKY DWELLER   \n",
       "2      HKD  https://images.rolex.com/2019/catalogue/images...     DATEJUST   \n",
       "3      HKD  https://images.rolex.com/2019/catalogue/images...     DATEJUST   \n",
       "4      HKD  https://content.rolex.com/dam/2020/upright-bba...  PEARLMASTER   \n",
       "\n",
       "   reference_code country life_span_date       life_span  price_before  \\\n",
       "0     228238-0042    None     2020-08-29  Q4 August 2020           NaN   \n",
       "1     326935-0007    None     2020-08-29  Q4 August 2020           NaN   \n",
       "2     126333-0010    None     2020-08-29  Q4 August 2020           NaN   \n",
       "3  279381RBR-0013    None     2020-08-29  Q4 August 2020           NaN   \n",
       "4   86409RBR-0001    None     2020-08-29  Q4 August 2020           NaN   \n",
       "\n",
       "   price_difference  price_percent_change  price_changed  is_new  \n",
       "0                 0                   0.0            0.0     NaN  \n",
       "1                 0                   0.0            0.0     NaN  \n",
       "2                 0                   0.0            0.0     NaN  \n",
       "3                 0                   0.0            0.0     NaN  \n",
       "4                 0                   0.0            0.0     NaN  "
      ]
     },
     "execution_count": 7,
     "metadata": {},
     "output_type": "execute_result"
    }
   ],
   "source": [
    "print(\"First 5 rows:\")\n",
    "df.head(n=5)"
   ]
  }
 ],
 "metadata": {
  "kernelspec": {
   "display_name": "env",
   "language": "python",
   "name": "python3"
  },
  "language_info": {
   "codemirror_mode": {
    "name": "ipython",
    "version": 3
   },
   "file_extension": ".py",
   "mimetype": "text/x-python",
   "name": "python",
   "nbconvert_exporter": "python",
   "pygments_lexer": "ipython3",
   "version": "3.12.5"
  }
 },
 "nbformat": 4,
 "nbformat_minor": 2
}
