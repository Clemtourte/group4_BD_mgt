{
 "cells": [
  {
   "cell_type": "code",
   "execution_count": 2,
   "metadata": {},
   "outputs": [],
   "source": [
    "import sys\n",
    "import os\n",
    "sys.path.append(os.path.dirname(os.getcwd()))\n",
    "# ou plus directement\n",
    "sys.path.append(\"C:/Users/clemt/OneDrive/Documents/Cours M2/S2/BD Management/group4_BD_mgt/projet\")"
   ]
  },
  {
   "cell_type": "code",
   "execution_count": 3,
   "metadata": {},
   "outputs": [
    {
     "name": "stdout",
     "output_type": "stream",
     "text": [
      "Hello my name is Clement\n"
     ]
    }
   ],
   "source": [
    "from scripts.lib import who_am_i\n",
    "who_am_i()"
   ]
  },
  {
   "cell_type": "code",
   "execution_count": 4,
   "metadata": {},
   "outputs": [
    {
     "data": {
      "text/html": [
       "<div>\n",
       "<style scoped>\n",
       "    .dataframe tbody tr th:only-of-type {\n",
       "        vertical-align: middle;\n",
       "    }\n",
       "\n",
       "    .dataframe tbody tr th {\n",
       "        vertical-align: top;\n",
       "    }\n",
       "\n",
       "    .dataframe thead th {\n",
       "        text-align: right;\n",
       "    }\n",
       "</style>\n",
       "<table border=\"1\" class=\"dataframe\">\n",
       "  <thead>\n",
       "    <tr style=\"text-align: right;\">\n",
       "      <th></th>\n",
       "      <th>Name</th>\n",
       "      <th>Age</th>\n",
       "    </tr>\n",
       "  </thead>\n",
       "  <tbody>\n",
       "    <tr>\n",
       "      <th>0</th>\n",
       "      <td>Alice</td>\n",
       "      <td>25</td>\n",
       "    </tr>\n",
       "    <tr>\n",
       "      <th>1</th>\n",
       "      <td>Bob</td>\n",
       "      <td>30</td>\n",
       "    </tr>\n",
       "  </tbody>\n",
       "</table>\n",
       "</div>"
      ],
      "text/plain": [
       "    Name  Age\n",
       "0  Alice   25\n",
       "1    Bob   30"
      ]
     },
     "execution_count": 4,
     "metadata": {},
     "output_type": "execute_result"
    }
   ],
   "source": [
    "from scripts.lib import simple_df\n",
    "simple_df()"
   ]
  },
  {
   "cell_type": "code",
   "execution_count": 10,
   "metadata": {},
   "outputs": [
    {
     "name": "stdout",
     "output_type": "stream",
     "text": [
      "Current working directory: c:\\Users\\clemt\\OneDrive\\Documents\\Cours M2\\S2\\BD Management\\group4_BD_mgt\\projet\\notebooks\n",
      "Key path: C:\\Users\\clemt\\OneDrive\\Documents\\Cours M2\\S2\\BD Management\\group4_BD_mgt\\projet\\august-voyage-390012-9a63e6007306.json\n",
      "File exists: True\n",
      "File contents readable: True\n"
     ]
    }
   ],
   "source": [
    "from google.oauth2 import service_account\n",
    "from google.cloud import bigquery\n",
    "from dotenv import load_dotenv\n",
    "import os\n",
    "\n",
    "# Load environment variables\n",
    "load_dotenv()\n",
    "\n",
    "# Debug prints\n",
    "print(\"Current working directory:\", os.getcwd())\n",
    "key_path = os.getenv('GOOGLE_APPLICATION_CREDENTIALS')\n",
    "print(\"Key path:\", key_path)\n",
    "print(\"File exists:\", os.path.exists(key_path))\n",
    "print(\"File contents readable:\", os.access(key_path, os.R_OK))"
   ]
  },
  {
   "cell_type": "code",
   "execution_count": 12,
   "metadata": {},
   "outputs": [
    {
     "name": "stdout",
     "output_type": "stream",
     "text": [
      "Credentials created successfully\n",
      "Project ID: august-voyage-390012\n",
      "Client initialized successfully\n",
      "Error occurred:\n",
      "Please install the 'db-dtypes' package to use this function.\n"
     ]
    }
   ],
   "source": [
    "try:\n",
    "    # Create credentials\n",
    "    credentials = service_account.Credentials.from_service_account_file(key_path)\n",
    "    print(\"Credentials created successfully\")\n",
    "    print(\"Project ID:\", credentials.project_id)\n",
    "    \n",
    "    # Initialize client\n",
    "    client = bigquery.Client(credentials=credentials, project=credentials.project_id)\n",
    "    print(\"Client initialized successfully\")\n",
    "    \n",
    "    # Test query\n",
    "    query = \"\"\"\n",
    "    SELECT *\n",
    "    FROM `edhec-business-manageme.luxurydata2502.price-monitoring-2022`\n",
    "    LIMIT 1\n",
    "    \"\"\"\n",
    "    df = client.query(query).to_dataframe()\n",
    "    print(\"Query executed successfully\")\n",
    "    \n",
    "except Exception as e:\n",
    "    print(\"Error occurred:\")\n",
    "    print(str(e))"
   ]
  }
 ],
 "metadata": {
  "kernelspec": {
   "display_name": "env",
   "language": "python",
   "name": "python3"
  },
  "language_info": {
   "codemirror_mode": {
    "name": "ipython",
    "version": 3
   },
   "file_extension": ".py",
   "mimetype": "text/x-python",
   "name": "python",
   "nbconvert_exporter": "python",
   "pygments_lexer": "ipython3",
   "version": "3.12.5"
  }
 },
 "nbformat": 4,
 "nbformat_minor": 2
}
