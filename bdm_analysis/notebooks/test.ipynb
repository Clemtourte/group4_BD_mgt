{
 "cells": [
  {
   "cell_type": "code",
   "execution_count": 13,
   "metadata": {},
   "outputs": [
    {
     "name": "stdout",
     "output_type": "stream",
     "text": [
      "Hello my name is Yas\n"
     ]
    }
   ],
   "source": [
    "from bdm_analysis.lib import who_am_i\n",
    "who_am_i()"
   ]
  },
  {
   "cell_type": "code",
   "execution_count": 1,
   "metadata": {},
   "outputs": [],
   "source": [
    "import matplotlib.pyplot as plt\n",
    "import numpy as np\n",
    "import pandas as pd"
   ]
  },
  {
   "cell_type": "code",
   "execution_count": 2,
   "metadata": {},
   "outputs": [
    {
     "name": "stdout",
     "output_type": "stream",
     "text": [
      "Current working directory: /home/clemt/projet_BDM/group4_BD_mgt/bdm_analysis/notebooks\n",
      "Key path: /home/clemt/projet_BDM/group4_BD_mgt/august-voyage-390012-9a63e6007306.json\n",
      "File exists: True\n",
      "File contents readable: True\n"
     ]
    }
   ],
   "source": [
    "from google.oauth2 import service_account\n",
    "from google.cloud import bigquery\n",
    "from dotenv import load_dotenv\n",
    "import os\n",
    "\n",
    "# Load environment variables\n",
    "load_dotenv()\n",
    "\n",
    "# Debug prints\n",
    "print(\"Current working directory:\", os.getcwd())\n",
    "key_path = os.getenv('GOOGLE_APPLICATION_CREDENTIALS')\n",
    "print(\"Key path:\", key_path)\n",
    "print(\"File exists:\", os.path.exists(key_path))\n",
    "print(\"File contents readable:\", os.access(key_path, os.R_OK))"
   ]
  },
  {
   "cell_type": "code",
   "execution_count": 3,
   "metadata": {},
   "outputs": [
    {
     "name": "stdout",
     "output_type": "stream",
     "text": [
      "Credentials created successfully\n",
      "Project ID: august-voyage-390012\n",
      "Client initialized successfully\n"
     ]
    },
    {
     "name": "stderr",
     "output_type": "stream",
     "text": [
      "/home/clemt/.pyenv/versions/totoenv/lib/python3.12/site-packages/google/cloud/bigquery/table.py:1820: UserWarning: BigQuery Storage module not found, fetch data with the REST endpoint instead.\n",
      "  warnings.warn(\n"
     ]
    },
    {
     "name": "stdout",
     "output_type": "stream",
     "text": [
      "Query executed successfully\n"
     ]
    }
   ],
   "source": [
    "try:\n",
    "    # Create credentials\n",
    "    credentials = service_account.Credentials.from_service_account_file(key_path)\n",
    "    print(\"Credentials created successfully\")\n",
    "    print(\"Project ID:\", credentials.project_id)\n",
    "    \n",
    "    # Initialize client\n",
    "    client = bigquery.Client(credentials=credentials, project=credentials.project_id)\n",
    "    print(\"Client initialized successfully\")\n",
    "    \n",
    "    # Test query\n",
    "    query = \"\"\"\n",
    "    SELECT *\n",
    "    FROM `edhec-business-manageme.luxurydata2502.price-monitoring-2022`\n",
    "    WHERE brand = 'Panerai'\n",
    "    \"\"\"\n",
    "    df = client.query(query).to_dataframe()\n",
    "    print(\"Query executed successfully\")\n",
    "    \n",
    "except Exception as e:\n",
    "    print(\"Error occurred:\")\n",
    "    print(str(e))"
   ]
  },
  {
   "cell_type": "code",
   "execution_count": 4,
   "metadata": {},
   "outputs": [
    {
     "name": "stdout",
     "output_type": "stream",
     "text": [
      "First 5 rows:\n"
     ]
    },
    {
     "data": {
      "text/html": [
       "<div>\n",
       "<style scoped>\n",
       "    .dataframe tbody tr th:only-of-type {\n",
       "        vertical-align: middle;\n",
       "    }\n",
       "\n",
       "    .dataframe tbody tr th {\n",
       "        vertical-align: top;\n",
       "    }\n",
       "\n",
       "    .dataframe thead th {\n",
       "        text-align: right;\n",
       "    }\n",
       "</style>\n",
       "<table border=\"1\" class=\"dataframe\">\n",
       "  <thead>\n",
       "    <tr style=\"text-align: right;\">\n",
       "      <th></th>\n",
       "      <th>uid</th>\n",
       "      <th>brand</th>\n",
       "      <th>url</th>\n",
       "      <th>price</th>\n",
       "      <th>currency</th>\n",
       "      <th>image_url</th>\n",
       "      <th>collection</th>\n",
       "      <th>reference_code</th>\n",
       "      <th>country</th>\n",
       "      <th>life_span_date</th>\n",
       "      <th>life_span</th>\n",
       "      <th>price_before</th>\n",
       "      <th>price_difference</th>\n",
       "      <th>price_percent_change</th>\n",
       "      <th>price_changed</th>\n",
       "      <th>is_new</th>\n",
       "    </tr>\n",
       "  </thead>\n",
       "  <tbody>\n",
       "    <tr>\n",
       "      <th>0</th>\n",
       "      <td>797622</td>\n",
       "      <td>Panerai</td>\n",
       "      <td>https://www.panerai.com/ch/fr/collections/watc...</td>\n",
       "      <td>20200</td>\n",
       "      <td>CHF</td>\n",
       "      <td>https://www.panerai.com/content/dam/rcq/pan/22...</td>\n",
       "      <td>SUBMERSIBLE</td>\n",
       "      <td>PNPAM01291</td>\n",
       "      <td>None</td>\n",
       "      <td>2021-11-30</td>\n",
       "      <td>Q4 November 2021</td>\n",
       "      <td>NaN</td>\n",
       "      <td>0</td>\n",
       "      <td>0.0</td>\n",
       "      <td>0.0</td>\n",
       "      <td>NaN</td>\n",
       "    </tr>\n",
       "    <tr>\n",
       "      <th>1</th>\n",
       "      <td>797623</td>\n",
       "      <td>Panerai</td>\n",
       "      <td>https://www.panerai.com/ch/fr/collections/watc...</td>\n",
       "      <td>45200</td>\n",
       "      <td>CHF</td>\n",
       "      <td>https://www.panerai.com/content/dam/rcq/pan/22...</td>\n",
       "      <td>SUBMERSIBLE</td>\n",
       "      <td>PNPAM01240</td>\n",
       "      <td>None</td>\n",
       "      <td>2021-11-30</td>\n",
       "      <td>Q4 November 2021</td>\n",
       "      <td>NaN</td>\n",
       "      <td>0</td>\n",
       "      <td>0.0</td>\n",
       "      <td>0.0</td>\n",
       "      <td>NaN</td>\n",
       "    </tr>\n",
       "    <tr>\n",
       "      <th>2</th>\n",
       "      <td>797624</td>\n",
       "      <td>Panerai</td>\n",
       "      <td>https://www.panerai.com/ch/fr/collections/watc...</td>\n",
       "      <td>8800</td>\n",
       "      <td>CHF</td>\n",
       "      <td>https://www.panerai.com/content/dam/rcq/pan/21...</td>\n",
       "      <td>SUBMERSIBLE</td>\n",
       "      <td>PNPAM01223</td>\n",
       "      <td>None</td>\n",
       "      <td>2021-11-30</td>\n",
       "      <td>Q4 November 2021</td>\n",
       "      <td>NaN</td>\n",
       "      <td>0</td>\n",
       "      <td>0.0</td>\n",
       "      <td>0.0</td>\n",
       "      <td>NaN</td>\n",
       "    </tr>\n",
       "    <tr>\n",
       "      <th>3</th>\n",
       "      <td>797625</td>\n",
       "      <td>Panerai</td>\n",
       "      <td>https://www.panerai.com/ch/fr/collections/watc...</td>\n",
       "      <td>29800</td>\n",
       "      <td>CHF</td>\n",
       "      <td>https://www.panerai.com/content/dam/rcq/pan/21...</td>\n",
       "      <td>SUBMERSIBLE</td>\n",
       "      <td>PNPAM01163</td>\n",
       "      <td>None</td>\n",
       "      <td>2021-11-30</td>\n",
       "      <td>Q4 November 2021</td>\n",
       "      <td>NaN</td>\n",
       "      <td>0</td>\n",
       "      <td>0.0</td>\n",
       "      <td>0.0</td>\n",
       "      <td>NaN</td>\n",
       "    </tr>\n",
       "    <tr>\n",
       "      <th>4</th>\n",
       "      <td>797626</td>\n",
       "      <td>Panerai</td>\n",
       "      <td>https://www.panerai.com/ch/fr/collections/watc...</td>\n",
       "      <td>10600</td>\n",
       "      <td>CHF</td>\n",
       "      <td>https://www.panerai.com/content/dam/rcq/pan/21...</td>\n",
       "      <td>SUBMERSIBLE</td>\n",
       "      <td>PNPAM01068</td>\n",
       "      <td>None</td>\n",
       "      <td>2021-11-30</td>\n",
       "      <td>Q4 November 2021</td>\n",
       "      <td>NaN</td>\n",
       "      <td>0</td>\n",
       "      <td>0.0</td>\n",
       "      <td>0.0</td>\n",
       "      <td>NaN</td>\n",
       "    </tr>\n",
       "  </tbody>\n",
       "</table>\n",
       "</div>"
      ],
      "text/plain": [
       "      uid    brand                                                url  price  \\\n",
       "0  797622  Panerai  https://www.panerai.com/ch/fr/collections/watc...  20200   \n",
       "1  797623  Panerai  https://www.panerai.com/ch/fr/collections/watc...  45200   \n",
       "2  797624  Panerai  https://www.panerai.com/ch/fr/collections/watc...   8800   \n",
       "3  797625  Panerai  https://www.panerai.com/ch/fr/collections/watc...  29800   \n",
       "4  797626  Panerai  https://www.panerai.com/ch/fr/collections/watc...  10600   \n",
       "\n",
       "  currency                                          image_url   collection  \\\n",
       "0      CHF  https://www.panerai.com/content/dam/rcq/pan/22...  SUBMERSIBLE   \n",
       "1      CHF  https://www.panerai.com/content/dam/rcq/pan/22...  SUBMERSIBLE   \n",
       "2      CHF  https://www.panerai.com/content/dam/rcq/pan/21...  SUBMERSIBLE   \n",
       "3      CHF  https://www.panerai.com/content/dam/rcq/pan/21...  SUBMERSIBLE   \n",
       "4      CHF  https://www.panerai.com/content/dam/rcq/pan/21...  SUBMERSIBLE   \n",
       "\n",
       "  reference_code country life_span_date         life_span  price_before  \\\n",
       "0     PNPAM01291    None     2021-11-30  Q4 November 2021           NaN   \n",
       "1     PNPAM01240    None     2021-11-30  Q4 November 2021           NaN   \n",
       "2     PNPAM01223    None     2021-11-30  Q4 November 2021           NaN   \n",
       "3     PNPAM01163    None     2021-11-30  Q4 November 2021           NaN   \n",
       "4     PNPAM01068    None     2021-11-30  Q4 November 2021           NaN   \n",
       "\n",
       "   price_difference  price_percent_change  price_changed  is_new  \n",
       "0                 0                   0.0            0.0     NaN  \n",
       "1                 0                   0.0            0.0     NaN  \n",
       "2                 0                   0.0            0.0     NaN  \n",
       "3                 0                   0.0            0.0     NaN  \n",
       "4                 0                   0.0            0.0     NaN  "
      ]
     },
     "execution_count": 4,
     "metadata": {},
     "output_type": "execute_result"
    }
   ],
   "source": [
    "print(\"First 5 rows:\")\n",
    "df.head(n=5)"
   ]
  },
  {
   "cell_type": "code",
   "execution_count": 5,
   "metadata": {},
   "outputs": [
    {
     "name": "stdout",
     "output_type": "stream",
     "text": [
      "<class 'pandas.core.frame.DataFrame'>\n",
      "RangeIndex: 18304 entries, 0 to 18303\n",
      "Data columns (total 16 columns):\n",
      " #   Column                Non-Null Count  Dtype         \n",
      "---  ------                --------------  -----         \n",
      " 0   uid                   18304 non-null  Int64         \n",
      " 1   brand                 18304 non-null  object        \n",
      " 2   url                   18304 non-null  object        \n",
      " 3   price                 17040 non-null  Int64         \n",
      " 4   currency              18304 non-null  object        \n",
      " 5   image_url             14786 non-null  object        \n",
      " 6   collection            18297 non-null  object        \n",
      " 7   reference_code        18301 non-null  object        \n",
      " 8   country               0 non-null      object        \n",
      " 9   life_span_date        18304 non-null  datetime64[us]\n",
      " 10  life_span             18304 non-null  object        \n",
      " 11  price_before          9105 non-null   float64       \n",
      " 12  price_difference      18304 non-null  Int64         \n",
      " 13  price_percent_change  18304 non-null  float64       \n",
      " 14  price_changed         18304 non-null  float64       \n",
      " 15  is_new                0 non-null      float64       \n",
      "dtypes: Int64(3), datetime64[us](1), float64(4), object(8)\n",
      "memory usage: 2.3+ MB\n"
     ]
    }
   ],
   "source": [
    "df.info()"
   ]
  },
  {
   "cell_type": "code",
   "execution_count": 6,
   "metadata": {},
   "outputs": [
    {
     "name": "stdout",
     "output_type": "stream",
     "text": [
      "\n",
      " uid Is a Int64  type with  18304 nunique values over  18304  observations.  This columns counts 0 null values.\n",
      "\n",
      " brand Is a object  type with  1 nunique values over  18304  observations.  This columns counts 0 null values.\n",
      "\n",
      " url Is a object  type with  2331 nunique values over  18304  observations.  This columns counts 0 null values.\n",
      "\n",
      " price Is a Int64  type with  1115 nunique values over  17040  observations.  This columns counts 1264 null values.\n",
      "\n",
      " currency Is a object  type with  11 nunique values over  18304  observations.  This columns counts 0 null values.\n",
      "\n",
      " image_url Is a object  type with  255 nunique values over  14786  observations.  This columns counts 3518 null values.\n",
      "\n",
      " collection Is a object  type with  5 nunique values over  18297  observations.  This columns counts 7 null values.\n",
      "\n",
      " reference_code Is a object  type with  268 nunique values over  18301  observations.  This columns counts 3 null values.\n",
      "\n",
      " country Is a object  type with  0 nunique values over  0  observations.  This columns counts 18304 null values.\n",
      "\n",
      " life_span_date Is a datetime64[us]  type with  14 nunique values over  18304  observations.  This columns counts 0 null values.\n",
      "\n",
      " life_span Is a object  type with  14 nunique values over  18304  observations.  This columns counts 0 null values.\n",
      "\n",
      " price_before Is a float64  type with  1011 nunique values over  9105  observations.  This columns counts 9199 null values.\n",
      "\n",
      " price_difference Is a Int64  type with  307 nunique values over  18304  observations.  This columns counts 0 null values.\n",
      "\n",
      " price_percent_change Is a float64  type with  478 nunique values over  18304  observations.  This columns counts 0 null values.\n",
      "\n",
      " price_changed Is a float64  type with  2 nunique values over  18304  observations.  This columns counts 0 null values.\n",
      "\n",
      " is_new Is a float64  type with  0 nunique values over  0  observations.  This columns counts 18304 null values.\n"
     ]
    }
   ],
   "source": [
    "for col in df.columns: #Basic counting of all columns in the dataset for exploration\n",
    "  print(\"\\n\",col,\"Is a\", df[col].dtype,\" type with \",df[col].nunique(),\"nunique values over \",df[col].count(),\" observations.\",\" This columns counts\",df[col].isnull().sum(),\"null values.\")"
   ]
  },
  {
   "cell_type": "code",
   "execution_count": null,
   "metadata": {},
   "outputs": [],
   "source": []
  },
  {
   "cell_type": "code",
   "execution_count": 7,
   "metadata": {},
   "outputs": [
    {
     "name": "stdout",
     "output_type": "stream",
     "text": [
      "Dataframe info:\n",
      "Dataframe shape: (18304, 16)\n",
      "df\n",
      "Price column info:\n",
      "Price column mean: 1413467\n",
      "Price column median: 48550.0\n"
     ]
    }
   ],
   "source": [
    "## General information about the dataset\n",
    "print(f\"Dataframe info:\")\n",
    "print(f\"Dataframe shape: {df.shape}\")\n",
    "print(f\"df\")\n",
    "\n",
    "## Basic analysis of price column\n",
    "print(f\"Price column info:\")\n",
    "print(f\"Price column mean: {round(df['price'].mean())}\")\n",
    "print(f\"Price column median: {df['price'].median()}\")"
   ]
  },
  {
   "cell_type": "code",
   "execution_count": 8,
   "metadata": {},
   "outputs": [
    {
     "data": {
      "text/plain": [
       "count           17040.0\n",
       "mean     1413466.691901\n",
       "std      4627998.542048\n",
       "min              3800.0\n",
       "25%             11050.0\n",
       "50%             48550.0\n",
       "75%            313000.0\n",
       "max          50000000.0\n",
       "Name: price, dtype: Float64"
      ]
     },
     "execution_count": 8,
     "metadata": {},
     "output_type": "execute_result"
    }
   ],
   "source": [
    "## Deleting all observations with price = 0 :\n",
    "df = df[df['price'] != 0]\n",
    "df['price'].describe()"
   ]
  },
  {
   "cell_type": "code",
   "execution_count": 9,
   "metadata": {},
   "outputs": [
    {
     "data": {
      "image/png": "[encoded data removed]",
      "text/plain": [
       "<Figure size 640x480 with 1 Axes>"
      ]
     },
     "metadata": {},
     "output_type": "display_data"
    }
   ],
   "source": [
    "## Exclude observations with price greater than 150,000\n",
    "df_filtered = df[df['price'] <= 150000]\n",
    "\n",
    "## Draw price frequency on matplotlib :\n",
    "plt.grid(True, alpha =0.3)\n",
    "plt.hist(df_filtered['price'], bins=20, color='blue', edgecolor='black')\n",
    "plt.xlabel('Price in euros')\n",
    "plt.ylabel('Occurrences')\n",
    "plt.title('Histogram of Price by Occurrences')\n",
    "plt.ticklabel_format(style='plain', axis='x')\n",
    "plt.show()"
   ]
  },
  {
   "cell_type": "code",
   "execution_count": 10,
   "metadata": {},
   "outputs": [
    {
     "data": {
      "text/plain": [
       "currency\n",
       "AED      59492.476489\n",
       "CHF         17149.625\n",
       "CNY     109483.114447\n",
       "EUR       17444.22957\n",
       "GBP      15368.181818\n",
       "HKD     141366.567164\n",
       "JPY    1954655.370722\n",
       "KRW    15455766.74938\n",
       "SGD      22560.376794\n",
       "TWD     347782.772681\n",
       "USD      18426.644295\n",
       "Name: price, dtype: Float64"
      ]
     },
     "execution_count": 10,
     "metadata": {},
     "output_type": "execute_result"
    }
   ],
   "source": [
    "## Grouping prices by currency :\n",
    "df['currency'].value_counts()\n",
    "df.groupby('currency')['price'].mean()"
   ]
  },
  {
   "cell_type": "code",
   "execution_count": 11,
   "metadata": {},
   "outputs": [
    {
     "name": "stdout",
     "output_type": "stream",
     "text": [
      "2021-11-30 00:00:00 to 2022-12-28 00:00:00\n"
     ]
    }
   ],
   "source": [
    "## Working on date now for currency arbitrage : \n",
    "print(f\"{df[\"life_span_date\"].min()} to {df[\"life_span_date\"].max()}\")"
   ]
  },
  {
   "cell_type": "code",
   "execution_count": null,
   "metadata": {},
   "outputs": [
    {
     "name": "stdout",
     "output_type": "stream",
     "text": [
      "Erreur : Pas de taux de conversion pour EUR le 2020-04-04\n",
      "Aucun taux de conversion trouvé.\n"
     ]
    }
   ],
   "source": [
    "## Creating a new function for generating the conversion rate given a specific time and currency\n",
    "\n",
    "import requests\n",
    "## To export at root level\n",
    "\n",
    "def get_conversion_rate(date, base_currency = \"USD\", target_currency = \"EUR\"):\n",
    "    \"\"\"\n",
    "    Conversion rate of two currencies at date.\n",
    "    \n",
    "    Args:\n",
    "        date (str): YYYY-MM-DD.\n",
    "        base_currency (str): \"USD\"\n",
    "        target_currency (str): \"EUR\"\n",
    "        \n",
    "    Returns:\n",
    "        float: Le taux de conversion si la requête est réussie, sinon None.\n",
    "    \"\"\"\n",
    "    url = f\"https://api.exchangerate.host/{date}\"\n",
    "    params = {\n",
    "        \"base\": base_currency,\n",
    "        \"symbols\": target_currency\n",
    "    }\n",
    "    response = requests.get(url, params=params)\n",
    "    \n",
    "    if response.status_code == 200:\n",
    "        data = response.json()\n",
    "        rate = data.get(\"rates\", {}).get(target_currency)\n",
    "        return rate\n",
    "    else:\n",
    "        print(\"Erreur lors de la récupération du taux de conversion.\")\n",
    "        return None\n",
    "\n",
    "if __name__ == \"__main__\":\n",
    "    # Exemple d'utilisation\n",
    "    date = \"2020-04-04\"        # Date souhaitée\n",
    "    base_currency = \"USD\"       # Devise de base\n",
    "    target_currency = \"EUR\"     # Devise cible\n",
    "    \n",
    "    rate = get_conversion_rate(date, base_currency, target_currency)\n",
    "    \n",
    "    if rate:\n",
    "        print(f\"Taux de conversion le {date} : 1 {base_currency} = {rate} {target_currency}\")\n",
    "    else:\n",
    "        print(\"Aucun taux de conversion trouvé.\")\n"
   ]
  }
 ],
 "metadata": {
  "kernelspec": {
   "display_name": "totoenv",
   "language": "python",
   "name": "python3"
  },
  "language_info": {
   "codemirror_mode": {
    "name": "ipython",
    "version": 3
   },
   "file_extension": ".py",
   "mimetype": "text/x-python",
   "name": "python",
   "nbconvert_exporter": "python",
   "pygments_lexer": "ipython3",
   "version": "3.12.1"
  }
 },
 "nbformat": 4,
 "nbformat_minor": 2
}
